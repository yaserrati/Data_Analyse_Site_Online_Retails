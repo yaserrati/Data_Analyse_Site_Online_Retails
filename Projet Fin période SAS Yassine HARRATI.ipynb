{
 "cells": [
  {
   "cell_type": "markdown",
   "id": "cca55499",
   "metadata": {},
   "source": [
    "<h1 align=\"center\"> Projet Fin période SAS </h1>"
   ]
  },
  {
   "cell_type": "markdown",
   "id": "f89722be",
   "metadata": {},
   "source": [
    "<h2 align=\"center\"> Développeur Data </h2>"
   ]
  },
  {
   "cell_type": "markdown",
   "id": "ac3cb0f5",
   "metadata": {},
   "source": [
    "<h3 style=\"color:RED;\"> Importations les bibliothèques nécessaire</h3>"
   ]
  },
  {
   "cell_type": "code",
   "execution_count": 1,
   "id": "9d1df703",
   "metadata": {},
   "outputs": [],
   "source": [
    "import pandas as pd\n",
    "import numpy as np\n",
    "import matplotlib.pyplot as plt\n",
    "import seaborn as sns\n",
    "import pyodbc"
   ]
  },
  {
   "cell_type": "code",
   "execution_count": 2,
   "id": "b39de496",
   "metadata": {
    "scrolled": true
   },
   "outputs": [
    {
     "data": {
      "text/html": [
       "<div>\n",
       "<style scoped>\n",
       "    .dataframe tbody tr th:only-of-type {\n",
       "        vertical-align: middle;\n",
       "    }\n",
       "\n",
       "    .dataframe tbody tr th {\n",
       "        vertical-align: top;\n",
       "    }\n",
       "\n",
       "    .dataframe thead th {\n",
       "        text-align: right;\n",
       "    }\n",
       "</style>\n",
       "<table border=\"1\" class=\"dataframe\">\n",
       "  <thead>\n",
       "    <tr style=\"text-align: right;\">\n",
       "      <th></th>\n",
       "      <th>InvoiceNo</th>\n",
       "      <th>StockCode</th>\n",
       "      <th>Description</th>\n",
       "      <th>Quantity</th>\n",
       "      <th>InvoiceDate</th>\n",
       "      <th>UnitPrice</th>\n",
       "      <th>CustomerID</th>\n",
       "      <th>Country</th>\n",
       "    </tr>\n",
       "  </thead>\n",
       "  <tbody>\n",
       "    <tr>\n",
       "      <th>0</th>\n",
       "      <td>536365</td>\n",
       "      <td>85123A</td>\n",
       "      <td>WHITE HANGING HEART T-LIGHT HOLDER</td>\n",
       "      <td>6</td>\n",
       "      <td>2010-12-01 08:26:00</td>\n",
       "      <td>2.55</td>\n",
       "      <td>17850.0</td>\n",
       "      <td>United Kingdom</td>\n",
       "    </tr>\n",
       "    <tr>\n",
       "      <th>1</th>\n",
       "      <td>536365</td>\n",
       "      <td>71053</td>\n",
       "      <td>WHITE METAL LANTERN</td>\n",
       "      <td>6</td>\n",
       "      <td>2010-12-01 08:26:00</td>\n",
       "      <td>3.39</td>\n",
       "      <td>17850.0</td>\n",
       "      <td>United Kingdom</td>\n",
       "    </tr>\n",
       "    <tr>\n",
       "      <th>2</th>\n",
       "      <td>536365</td>\n",
       "      <td>84406B</td>\n",
       "      <td>CREAM CUPID HEARTS COAT HANGER</td>\n",
       "      <td>8</td>\n",
       "      <td>2010-12-01 08:26:00</td>\n",
       "      <td>2.75</td>\n",
       "      <td>17850.0</td>\n",
       "      <td>United Kingdom</td>\n",
       "    </tr>\n",
       "    <tr>\n",
       "      <th>3</th>\n",
       "      <td>536365</td>\n",
       "      <td>84029G</td>\n",
       "      <td>KNITTED UNION FLAG HOT WATER BOTTLE</td>\n",
       "      <td>6</td>\n",
       "      <td>2010-12-01 08:26:00</td>\n",
       "      <td>3.39</td>\n",
       "      <td>17850.0</td>\n",
       "      <td>United Kingdom</td>\n",
       "    </tr>\n",
       "    <tr>\n",
       "      <th>4</th>\n",
       "      <td>536365</td>\n",
       "      <td>84029E</td>\n",
       "      <td>RED WOOLLY HOTTIE WHITE HEART.</td>\n",
       "      <td>6</td>\n",
       "      <td>2010-12-01 08:26:00</td>\n",
       "      <td>3.39</td>\n",
       "      <td>17850.0</td>\n",
       "      <td>United Kingdom</td>\n",
       "    </tr>\n",
       "  </tbody>\n",
       "</table>\n",
       "</div>"
      ],
      "text/plain": [
       "  InvoiceNo StockCode                          Description  Quantity   \n",
       "0    536365    85123A   WHITE HANGING HEART T-LIGHT HOLDER         6  \\\n",
       "1    536365     71053                  WHITE METAL LANTERN         6   \n",
       "2    536365    84406B       CREAM CUPID HEARTS COAT HANGER         8   \n",
       "3    536365    84029G  KNITTED UNION FLAG HOT WATER BOTTLE         6   \n",
       "4    536365    84029E       RED WOOLLY HOTTIE WHITE HEART.         6   \n",
       "\n",
       "           InvoiceDate  UnitPrice  CustomerID         Country  \n",
       "0  2010-12-01 08:26:00       2.55     17850.0  United Kingdom  \n",
       "1  2010-12-01 08:26:00       3.39     17850.0  United Kingdom  \n",
       "2  2010-12-01 08:26:00       2.75     17850.0  United Kingdom  \n",
       "3  2010-12-01 08:26:00       3.39     17850.0  United Kingdom  \n",
       "4  2010-12-01 08:26:00       3.39     17850.0  United Kingdom  "
      ]
     },
     "execution_count": 2,
     "metadata": {},
     "output_type": "execute_result"
    }
   ],
   "source": [
    "df=pd.read_csv('Online_Retail.csv')\n",
    "df.head()"
   ]
  },
  {
   "cell_type": "code",
   "execution_count": 3,
   "id": "cb8b1e65",
   "metadata": {},
   "outputs": [
    {
     "name": "stdout",
     "output_type": "stream",
     "text": [
      "<class 'pandas.core.frame.DataFrame'>\n",
      "RangeIndex: 541909 entries, 0 to 541908\n",
      "Data columns (total 8 columns):\n",
      " #   Column       Non-Null Count   Dtype  \n",
      "---  ------       --------------   -----  \n",
      " 0   InvoiceNo    541909 non-null  object \n",
      " 1   StockCode    541909 non-null  object \n",
      " 2   Description  540455 non-null  object \n",
      " 3   Quantity     541909 non-null  int64  \n",
      " 4   InvoiceDate  541909 non-null  object \n",
      " 5   UnitPrice    541909 non-null  float64\n",
      " 6   CustomerID   406829 non-null  float64\n",
      " 7   Country      541909 non-null  object \n",
      "dtypes: float64(2), int64(1), object(5)\n",
      "memory usage: 33.1+ MB\n"
     ]
    }
   ],
   "source": [
    "#about the data \n",
    "df.info()"
   ]
  },
  {
   "cell_type": "code",
   "execution_count": 4,
   "id": "db109a90",
   "metadata": {},
   "outputs": [
    {
     "data": {
      "text/html": [
       "<div>\n",
       "<style scoped>\n",
       "    .dataframe tbody tr th:only-of-type {\n",
       "        vertical-align: middle;\n",
       "    }\n",
       "\n",
       "    .dataframe tbody tr th {\n",
       "        vertical-align: top;\n",
       "    }\n",
       "\n",
       "    .dataframe thead th {\n",
       "        text-align: right;\n",
       "    }\n",
       "</style>\n",
       "<table border=\"1\" class=\"dataframe\">\n",
       "  <thead>\n",
       "    <tr style=\"text-align: right;\">\n",
       "      <th></th>\n",
       "      <th>InvoiceNo</th>\n",
       "      <th>StockCode</th>\n",
       "      <th>Description</th>\n",
       "      <th>Quantity</th>\n",
       "      <th>InvoiceDate</th>\n",
       "      <th>UnitPrice</th>\n",
       "      <th>CustomerID</th>\n",
       "      <th>Country</th>\n",
       "    </tr>\n",
       "  </thead>\n",
       "  <tbody>\n",
       "    <tr>\n",
       "      <th>455197</th>\n",
       "      <td>575607</td>\n",
       "      <td>48194</td>\n",
       "      <td>DOORMAT HEARTS</td>\n",
       "      <td>2</td>\n",
       "      <td>2011-11-10 12:37:00</td>\n",
       "      <td>15.79</td>\n",
       "      <td>14096.0</td>\n",
       "      <td>United Kingdom</td>\n",
       "    </tr>\n",
       "    <tr>\n",
       "      <th>420931</th>\n",
       "      <td>572913</td>\n",
       "      <td>21817</td>\n",
       "      <td>GLITTER CHRISTMAS TREE</td>\n",
       "      <td>4</td>\n",
       "      <td>2011-10-26 16:21:00</td>\n",
       "      <td>0.39</td>\n",
       "      <td>15993.0</td>\n",
       "      <td>United Kingdom</td>\n",
       "    </tr>\n",
       "    <tr>\n",
       "      <th>218610</th>\n",
       "      <td>556056</td>\n",
       "      <td>22384</td>\n",
       "      <td>LUNCH BAG PINK POLKADOT</td>\n",
       "      <td>1</td>\n",
       "      <td>2011-06-08 13:35:00</td>\n",
       "      <td>1.65</td>\n",
       "      <td>17841.0</td>\n",
       "      <td>United Kingdom</td>\n",
       "    </tr>\n",
       "    <tr>\n",
       "      <th>209665</th>\n",
       "      <td>555260</td>\n",
       "      <td>85123A</td>\n",
       "      <td>WHITE HANGING HEART T-LIGHT HOLDER</td>\n",
       "      <td>2</td>\n",
       "      <td>2011-06-01 15:34:00</td>\n",
       "      <td>2.95</td>\n",
       "      <td>13263.0</td>\n",
       "      <td>United Kingdom</td>\n",
       "    </tr>\n",
       "    <tr>\n",
       "      <th>429733</th>\n",
       "      <td>573576</td>\n",
       "      <td>22196</td>\n",
       "      <td>SMALL HEART MEASURING SPOONS</td>\n",
       "      <td>5</td>\n",
       "      <td>2011-10-31 14:09:00</td>\n",
       "      <td>1.63</td>\n",
       "      <td>14096.0</td>\n",
       "      <td>United Kingdom</td>\n",
       "    </tr>\n",
       "    <tr>\n",
       "      <th>381843</th>\n",
       "      <td>569896</td>\n",
       "      <td>22555</td>\n",
       "      <td>PLASTERS IN TIN STRONGMAN</td>\n",
       "      <td>1</td>\n",
       "      <td>2011-10-06 15:58:00</td>\n",
       "      <td>1.65</td>\n",
       "      <td>NaN</td>\n",
       "      <td>United Kingdom</td>\n",
       "    </tr>\n",
       "    <tr>\n",
       "      <th>394605</th>\n",
       "      <td>570872</td>\n",
       "      <td>72817</td>\n",
       "      <td>SET OF 2 CHRISTMAS DECOUPAGE CANDLE</td>\n",
       "      <td>1</td>\n",
       "      <td>2011-10-12 16:40:00</td>\n",
       "      <td>1.63</td>\n",
       "      <td>NaN</td>\n",
       "      <td>United Kingdom</td>\n",
       "    </tr>\n",
       "    <tr>\n",
       "      <th>351174</th>\n",
       "      <td>567662</td>\n",
       "      <td>21647</td>\n",
       "      <td>ASSORTED TUTTI FRUTTI LARGE PURSE</td>\n",
       "      <td>4</td>\n",
       "      <td>2011-09-21 15:12:00</td>\n",
       "      <td>2.10</td>\n",
       "      <td>17758.0</td>\n",
       "      <td>United Kingdom</td>\n",
       "    </tr>\n",
       "    <tr>\n",
       "      <th>520610</th>\n",
       "      <td>580293</td>\n",
       "      <td>21899</td>\n",
       "      <td>GARAGE KEY FOB</td>\n",
       "      <td>20</td>\n",
       "      <td>2011-12-02 13:38:00</td>\n",
       "      <td>0.65</td>\n",
       "      <td>16426.0</td>\n",
       "      <td>United Kingdom</td>\n",
       "    </tr>\n",
       "    <tr>\n",
       "      <th>60749</th>\n",
       "      <td>541422</td>\n",
       "      <td>22571</td>\n",
       "      <td>ROCKING HORSE RED CHRISTMAS</td>\n",
       "      <td>1</td>\n",
       "      <td>2011-01-17 17:48:00</td>\n",
       "      <td>1.63</td>\n",
       "      <td>NaN</td>\n",
       "      <td>United Kingdom</td>\n",
       "    </tr>\n",
       "  </tbody>\n",
       "</table>\n",
       "</div>"
      ],
      "text/plain": [
       "       InvoiceNo StockCode                          Description  Quantity   \n",
       "455197    575607     48194                       DOORMAT HEARTS         2  \\\n",
       "420931    572913     21817               GLITTER CHRISTMAS TREE         4   \n",
       "218610    556056     22384              LUNCH BAG PINK POLKADOT         1   \n",
       "209665    555260    85123A   WHITE HANGING HEART T-LIGHT HOLDER         2   \n",
       "429733    573576     22196         SMALL HEART MEASURING SPOONS         5   \n",
       "381843    569896     22555            PLASTERS IN TIN STRONGMAN         1   \n",
       "394605    570872     72817  SET OF 2 CHRISTMAS DECOUPAGE CANDLE         1   \n",
       "351174    567662     21647    ASSORTED TUTTI FRUTTI LARGE PURSE         4   \n",
       "520610    580293     21899                       GARAGE KEY FOB        20   \n",
       "60749     541422     22571          ROCKING HORSE RED CHRISTMAS         1   \n",
       "\n",
       "                InvoiceDate  UnitPrice  CustomerID         Country  \n",
       "455197  2011-11-10 12:37:00      15.79     14096.0  United Kingdom  \n",
       "420931  2011-10-26 16:21:00       0.39     15993.0  United Kingdom  \n",
       "218610  2011-06-08 13:35:00       1.65     17841.0  United Kingdom  \n",
       "209665  2011-06-01 15:34:00       2.95     13263.0  United Kingdom  \n",
       "429733  2011-10-31 14:09:00       1.63     14096.0  United Kingdom  \n",
       "381843  2011-10-06 15:58:00       1.65         NaN  United Kingdom  \n",
       "394605  2011-10-12 16:40:00       1.63         NaN  United Kingdom  \n",
       "351174  2011-09-21 15:12:00       2.10     17758.0  United Kingdom  \n",
       "520610  2011-12-02 13:38:00       0.65     16426.0  United Kingdom  \n",
       "60749   2011-01-17 17:48:00       1.63         NaN  United Kingdom  "
      ]
     },
     "execution_count": 4,
     "metadata": {},
     "output_type": "execute_result"
    }
   ],
   "source": [
    "#sample from the data\n",
    "df.sample(10)"
   ]
  },
  {
   "cell_type": "markdown",
   "id": "20f3cb0e",
   "metadata": {},
   "source": [
    "## <center>Nettoyage</center>"
   ]
  },
  {
   "cell_type": "markdown",
   "id": "ce86c6e4",
   "metadata": {},
   "source": [
    "<h3 style=\"color:RED;\"> La taille totale du Dataset avant le nettoyage des données:</h3>"
   ]
  },
  {
   "cell_type": "code",
   "execution_count": 5,
   "id": "e863889b",
   "metadata": {
    "scrolled": true
   },
   "outputs": [
    {
     "name": "stdout",
     "output_type": "stream",
     "text": [
      "(541909, 8)\n"
     ]
    }
   ],
   "source": [
    "print(df.shape)"
   ]
  },
  {
   "cell_type": "markdown",
   "id": "c9a4f830",
   "metadata": {},
   "source": [
    "<h2> Nettoyage des données:</h2>"
   ]
  },
  {
   "cell_type": "markdown",
   "id": "8744531f",
   "metadata": {},
   "source": [
    " <h3 style=\"color:RED;\"> Il y a des valeurs manquantes dans le Dataset, Mais comment les gérer ?</h3>"
   ]
  },
  {
   "cell_type": "markdown",
   "id": "93ce711d",
   "metadata": {},
   "source": [
    "#### Il a 24,72 % de valeurs manquantes en CustomerID, donc au lieu de les supprimer,nous les remplacerons en utilisant des méthodes."
   ]
  },
  {
   "cell_type": "code",
   "execution_count": 6,
   "id": "0536b9a8",
   "metadata": {
    "scrolled": false
   },
   "outputs": [
    {
     "name": "stdout",
     "output_type": "stream",
     "text": [
      "InvoiceNo           0\n",
      "StockCode           0\n",
      "Description      1454\n",
      "Quantity            0\n",
      "InvoiceDate         0\n",
      "UnitPrice           0\n",
      "CustomerID     135080\n",
      "Country             0\n",
      "dtype: int64\n"
     ]
    }
   ],
   "source": [
    "print(df.isnull().sum(axis=0))"
   ]
  },
  {
   "cell_type": "code",
   "execution_count": 7,
   "id": "09d77987",
   "metadata": {
    "scrolled": true
   },
   "outputs": [
    {
     "data": {
      "text/html": [
       "<div>\n",
       "<style scoped>\n",
       "    .dataframe tbody tr th:only-of-type {\n",
       "        vertical-align: middle;\n",
       "    }\n",
       "\n",
       "    .dataframe tbody tr th {\n",
       "        vertical-align: top;\n",
       "    }\n",
       "\n",
       "    .dataframe thead th {\n",
       "        text-align: right;\n",
       "    }\n",
       "</style>\n",
       "<table border=\"1\" class=\"dataframe\">\n",
       "  <thead>\n",
       "    <tr style=\"text-align: right;\">\n",
       "      <th></th>\n",
       "      <th>InvoiceNo</th>\n",
       "      <th>StockCode</th>\n",
       "      <th>Description</th>\n",
       "      <th>Quantity</th>\n",
       "      <th>InvoiceDate</th>\n",
       "      <th>UnitPrice</th>\n",
       "      <th>CustomerID</th>\n",
       "      <th>Country</th>\n",
       "    </tr>\n",
       "  </thead>\n",
       "  <tbody>\n",
       "    <tr>\n",
       "      <th>0</th>\n",
       "      <td>536365</td>\n",
       "      <td>85123A</td>\n",
       "      <td>WHITE HANGING HEART T-LIGHT HOLDER</td>\n",
       "      <td>6</td>\n",
       "      <td>2010-12-01 08:26:00</td>\n",
       "      <td>2.55</td>\n",
       "      <td>17850.0</td>\n",
       "      <td>United Kingdom</td>\n",
       "    </tr>\n",
       "    <tr>\n",
       "      <th>1</th>\n",
       "      <td>536365</td>\n",
       "      <td>71053</td>\n",
       "      <td>WHITE METAL LANTERN</td>\n",
       "      <td>6</td>\n",
       "      <td>2010-12-01 08:26:00</td>\n",
       "      <td>3.39</td>\n",
       "      <td>17850.0</td>\n",
       "      <td>United Kingdom</td>\n",
       "    </tr>\n",
       "    <tr>\n",
       "      <th>2</th>\n",
       "      <td>536365</td>\n",
       "      <td>84406B</td>\n",
       "      <td>CREAM CUPID HEARTS COAT HANGER</td>\n",
       "      <td>8</td>\n",
       "      <td>2010-12-01 08:26:00</td>\n",
       "      <td>2.75</td>\n",
       "      <td>17850.0</td>\n",
       "      <td>United Kingdom</td>\n",
       "    </tr>\n",
       "    <tr>\n",
       "      <th>3</th>\n",
       "      <td>536365</td>\n",
       "      <td>84029G</td>\n",
       "      <td>KNITTED UNION FLAG HOT WATER BOTTLE</td>\n",
       "      <td>6</td>\n",
       "      <td>2010-12-01 08:26:00</td>\n",
       "      <td>3.39</td>\n",
       "      <td>17850.0</td>\n",
       "      <td>United Kingdom</td>\n",
       "    </tr>\n",
       "    <tr>\n",
       "      <th>4</th>\n",
       "      <td>536365</td>\n",
       "      <td>84029E</td>\n",
       "      <td>RED WOOLLY HOTTIE WHITE HEART.</td>\n",
       "      <td>6</td>\n",
       "      <td>2010-12-01 08:26:00</td>\n",
       "      <td>3.39</td>\n",
       "      <td>17850.0</td>\n",
       "      <td>United Kingdom</td>\n",
       "    </tr>\n",
       "  </tbody>\n",
       "</table>\n",
       "</div>"
      ],
      "text/plain": [
       "  InvoiceNo StockCode                          Description  Quantity   \n",
       "0    536365    85123A   WHITE HANGING HEART T-LIGHT HOLDER         6  \\\n",
       "1    536365     71053                  WHITE METAL LANTERN         6   \n",
       "2    536365    84406B       CREAM CUPID HEARTS COAT HANGER         8   \n",
       "3    536365    84029G  KNITTED UNION FLAG HOT WATER BOTTLE         6   \n",
       "4    536365    84029E       RED WOOLLY HOTTIE WHITE HEART.         6   \n",
       "\n",
       "           InvoiceDate  UnitPrice  CustomerID         Country  \n",
       "0  2010-12-01 08:26:00       2.55     17850.0  United Kingdom  \n",
       "1  2010-12-01 08:26:00       3.39     17850.0  United Kingdom  \n",
       "2  2010-12-01 08:26:00       2.75     17850.0  United Kingdom  \n",
       "3  2010-12-01 08:26:00       3.39     17850.0  United Kingdom  \n",
       "4  2010-12-01 08:26:00       3.39     17850.0  United Kingdom  "
      ]
     },
     "execution_count": 7,
     "metadata": {},
     "output_type": "execute_result"
    }
   ],
   "source": [
    "cn = df.loc[(df['CustomerID'].isna()) & (df['UnitPrice'] ==0)]\n",
    "df = df.drop(cn.index)\n",
    "df.head()"
   ]
  },
  {
   "cell_type": "code",
   "execution_count": 8,
   "id": "e9a55673",
   "metadata": {},
   "outputs": [
    {
     "name": "stdout",
     "output_type": "stream",
     "text": [
      "(539434, 8)\n"
     ]
    }
   ],
   "source": [
    "print(df.shape)"
   ]
  },
  {
   "cell_type": "markdown",
   "id": "79c9a782",
   "metadata": {},
   "source": [
    "### Le probleme de CustomerID is null"
   ]
  },
  {
   "cell_type": "code",
   "execution_count": 9,
   "id": "6e3a159f",
   "metadata": {},
   "outputs": [
    {
     "name": "stdout",
     "output_type": "stream",
     "text": [
      "InvoiceNo           0\n",
      "StockCode           0\n",
      "Description         0\n",
      "Quantity            0\n",
      "InvoiceDate         0\n",
      "UnitPrice           0\n",
      "CustomerID     132605\n",
      "Country             0\n",
      "dtype: int64\n"
     ]
    }
   ],
   "source": [
    "print(df.isnull().sum(axis=0))"
   ]
  },
  {
   "cell_type": "code",
   "execution_count": 10,
   "id": "9536e4ba",
   "metadata": {},
   "outputs": [
    {
     "name": "stdout",
     "output_type": "stream",
     "text": [
      "[12346. 12347. 12348. ... 18283. 18287.    nan]\n"
     ]
    }
   ],
   "source": [
    "dfnumsyl = np.sort(df['CustomerID'].unique())\n",
    "print(dfnumsyl)"
   ]
  },
  {
   "cell_type": "code",
   "execution_count": 11,
   "id": "bb3bf7d7",
   "metadata": {},
   "outputs": [],
   "source": [
    "missing_ids = df['CustomerID'].isnull()\n",
    "generated_ids = np.random.randint(18288, 30000, sum(missing_ids)).astype(int)\n",
    "df.loc[missing_ids, 'CustomerID'] = generated_ids"
   ]
  },
  {
   "cell_type": "code",
   "execution_count": 12,
   "id": "799dd8dd",
   "metadata": {},
   "outputs": [
    {
     "name": "stdout",
     "output_type": "stream",
     "text": [
      "[12346. 12347. 12348. ... 29997. 29998. 29999.]\n"
     ]
    }
   ],
   "source": [
    "dfnumsyl = np.sort(df['CustomerID'].unique())\n",
    "print(dfnumsyl)"
   ]
  },
  {
   "cell_type": "code",
   "execution_count": 13,
   "id": "dc273407",
   "metadata": {},
   "outputs": [
    {
     "name": "stdout",
     "output_type": "stream",
     "text": [
      "InvoiceNo      0\n",
      "StockCode      0\n",
      "Description    0\n",
      "Quantity       0\n",
      "InvoiceDate    0\n",
      "UnitPrice      0\n",
      "CustomerID     0\n",
      "Country        0\n",
      "dtype: int64\n"
     ]
    }
   ],
   "source": [
    "print(df.isnull().sum(axis=0))"
   ]
  },
  {
   "cell_type": "code",
   "execution_count": 14,
   "id": "c98c888d",
   "metadata": {},
   "outputs": [],
   "source": [
    "# convertir le 'CustomerID' en type entier.\n",
    "df['CustomerID'] = df['CustomerID'].astype(int)"
   ]
  },
  {
   "cell_type": "markdown",
   "id": "a81f6be4",
   "metadata": {},
   "source": [
    "<h3 style=\"color:RED;\"> Les valeurs aberrantes ou les valeurs extrêmes doivent-elles être corrigées ou supprimées ? comment peut ont faire?</h3>"
   ]
  },
  {
   "cell_type": "code",
   "execution_count": 15,
   "id": "9265ea63",
   "metadata": {
    "scrolled": true
   },
   "outputs": [
    {
     "data": {
      "text/html": [
       "<div>\n",
       "<style scoped>\n",
       "    .dataframe tbody tr th:only-of-type {\n",
       "        vertical-align: middle;\n",
       "    }\n",
       "\n",
       "    .dataframe tbody tr th {\n",
       "        vertical-align: top;\n",
       "    }\n",
       "\n",
       "    .dataframe thead th {\n",
       "        text-align: right;\n",
       "    }\n",
       "</style>\n",
       "<table border=\"1\" class=\"dataframe\">\n",
       "  <thead>\n",
       "    <tr style=\"text-align: right;\">\n",
       "      <th></th>\n",
       "      <th>Quantity</th>\n",
       "      <th>UnitPrice</th>\n",
       "      <th>CustomerID</th>\n",
       "    </tr>\n",
       "  </thead>\n",
       "  <tbody>\n",
       "    <tr>\n",
       "      <th>count</th>\n",
       "      <td>539434.000000</td>\n",
       "      <td>539434.000000</td>\n",
       "      <td>539434.000000</td>\n",
       "    </tr>\n",
       "    <tr>\n",
       "      <th>mean</th>\n",
       "      <td>9.870879</td>\n",
       "      <td>4.632270</td>\n",
       "      <td>17462.060135</td>\n",
       "    </tr>\n",
       "    <tr>\n",
       "      <th>std</th>\n",
       "      <td>216.079582</td>\n",
       "      <td>96.981068</td>\n",
       "      <td>4420.459023</td>\n",
       "    </tr>\n",
       "    <tr>\n",
       "      <th>min</th>\n",
       "      <td>-80995.000000</td>\n",
       "      <td>-11062.060000</td>\n",
       "      <td>12346.000000</td>\n",
       "    </tr>\n",
       "    <tr>\n",
       "      <th>25%</th>\n",
       "      <td>1.000000</td>\n",
       "      <td>1.250000</td>\n",
       "      <td>14359.000000</td>\n",
       "    </tr>\n",
       "    <tr>\n",
       "      <th>50%</th>\n",
       "      <td>3.000000</td>\n",
       "      <td>2.080000</td>\n",
       "      <td>16240.000000</td>\n",
       "    </tr>\n",
       "    <tr>\n",
       "      <th>75%</th>\n",
       "      <td>10.000000</td>\n",
       "      <td>4.130000</td>\n",
       "      <td>18237.000000</td>\n",
       "    </tr>\n",
       "    <tr>\n",
       "      <th>max</th>\n",
       "      <td>80995.000000</td>\n",
       "      <td>38970.000000</td>\n",
       "      <td>29999.000000</td>\n",
       "    </tr>\n",
       "  </tbody>\n",
       "</table>\n",
       "</div>"
      ],
      "text/plain": [
       "            Quantity      UnitPrice     CustomerID\n",
       "count  539434.000000  539434.000000  539434.000000\n",
       "mean        9.870879       4.632270   17462.060135\n",
       "std       216.079582      96.981068    4420.459023\n",
       "min    -80995.000000  -11062.060000   12346.000000\n",
       "25%         1.000000       1.250000   14359.000000\n",
       "50%         3.000000       2.080000   16240.000000\n",
       "75%        10.000000       4.130000   18237.000000\n",
       "max     80995.000000   38970.000000   29999.000000"
      ]
     },
     "execution_count": 15,
     "metadata": {},
     "output_type": "execute_result"
    }
   ],
   "source": [
    "df.describe()"
   ]
  },
  {
   "cell_type": "code",
   "execution_count": 16,
   "id": "cc6540df",
   "metadata": {},
   "outputs": [],
   "source": [
    "df['Quantity'] = np.abs(df['Quantity'])\n",
    "df['UnitPrice'] = np.abs(df['UnitPrice'])"
   ]
  },
  {
   "cell_type": "code",
   "execution_count": 17,
   "id": "c40db5f8",
   "metadata": {
    "scrolled": true
   },
   "outputs": [
    {
     "data": {
      "text/html": [
       "<div>\n",
       "<style scoped>\n",
       "    .dataframe tbody tr th:only-of-type {\n",
       "        vertical-align: middle;\n",
       "    }\n",
       "\n",
       "    .dataframe tbody tr th {\n",
       "        vertical-align: top;\n",
       "    }\n",
       "\n",
       "    .dataframe thead th {\n",
       "        text-align: right;\n",
       "    }\n",
       "</style>\n",
       "<table border=\"1\" class=\"dataframe\">\n",
       "  <thead>\n",
       "    <tr style=\"text-align: right;\">\n",
       "      <th></th>\n",
       "      <th>Quantity</th>\n",
       "      <th>UnitPrice</th>\n",
       "      <th>CustomerID</th>\n",
       "    </tr>\n",
       "  </thead>\n",
       "  <tbody>\n",
       "    <tr>\n",
       "      <th>count</th>\n",
       "      <td>539434.000000</td>\n",
       "      <td>539434.000000</td>\n",
       "      <td>539434.000000</td>\n",
       "    </tr>\n",
       "    <tr>\n",
       "      <th>mean</th>\n",
       "      <td>10.900010</td>\n",
       "      <td>4.714297</td>\n",
       "      <td>17462.060135</td>\n",
       "    </tr>\n",
       "    <tr>\n",
       "      <th>std</th>\n",
       "      <td>216.030113</td>\n",
       "      <td>96.977115</td>\n",
       "      <td>4420.459023</td>\n",
       "    </tr>\n",
       "    <tr>\n",
       "      <th>min</th>\n",
       "      <td>1.000000</td>\n",
       "      <td>0.000000</td>\n",
       "      <td>12346.000000</td>\n",
       "    </tr>\n",
       "    <tr>\n",
       "      <th>25%</th>\n",
       "      <td>1.000000</td>\n",
       "      <td>1.250000</td>\n",
       "      <td>14359.000000</td>\n",
       "    </tr>\n",
       "    <tr>\n",
       "      <th>50%</th>\n",
       "      <td>3.000000</td>\n",
       "      <td>2.080000</td>\n",
       "      <td>16240.000000</td>\n",
       "    </tr>\n",
       "    <tr>\n",
       "      <th>75%</th>\n",
       "      <td>10.000000</td>\n",
       "      <td>4.130000</td>\n",
       "      <td>18237.000000</td>\n",
       "    </tr>\n",
       "    <tr>\n",
       "      <th>max</th>\n",
       "      <td>80995.000000</td>\n",
       "      <td>38970.000000</td>\n",
       "      <td>29999.000000</td>\n",
       "    </tr>\n",
       "  </tbody>\n",
       "</table>\n",
       "</div>"
      ],
      "text/plain": [
       "            Quantity      UnitPrice     CustomerID\n",
       "count  539434.000000  539434.000000  539434.000000\n",
       "mean       10.900010       4.714297   17462.060135\n",
       "std       216.030113      96.977115    4420.459023\n",
       "min         1.000000       0.000000   12346.000000\n",
       "25%         1.000000       1.250000   14359.000000\n",
       "50%         3.000000       2.080000   16240.000000\n",
       "75%        10.000000       4.130000   18237.000000\n",
       "max     80995.000000   38970.000000   29999.000000"
      ]
     },
     "execution_count": 17,
     "metadata": {},
     "output_type": "execute_result"
    }
   ],
   "source": [
    "df.describe()"
   ]
  },
  {
   "cell_type": "markdown",
   "id": "77f0d357",
   "metadata": {},
   "source": [
    "### Le probleme de UnitPrice"
   ]
  },
  {
   "cell_type": "code",
   "execution_count": 18,
   "id": "68a3e4d4",
   "metadata": {},
   "outputs": [
    {
     "data": {
      "text/html": [
       "<div>\n",
       "<style scoped>\n",
       "    .dataframe tbody tr th:only-of-type {\n",
       "        vertical-align: middle;\n",
       "    }\n",
       "\n",
       "    .dataframe tbody tr th {\n",
       "        vertical-align: top;\n",
       "    }\n",
       "\n",
       "    .dataframe thead th {\n",
       "        text-align: right;\n",
       "    }\n",
       "</style>\n",
       "<table border=\"1\" class=\"dataframe\">\n",
       "  <thead>\n",
       "    <tr style=\"text-align: right;\">\n",
       "      <th></th>\n",
       "      <th>InvoiceNo</th>\n",
       "      <th>StockCode</th>\n",
       "      <th>Description</th>\n",
       "      <th>Quantity</th>\n",
       "      <th>InvoiceDate</th>\n",
       "      <th>UnitPrice</th>\n",
       "      <th>CustomerID</th>\n",
       "      <th>Country</th>\n",
       "    </tr>\n",
       "  </thead>\n",
       "  <tbody>\n",
       "    <tr>\n",
       "      <th>9302</th>\n",
       "      <td>537197</td>\n",
       "      <td>22841</td>\n",
       "      <td>ROUND CAKE TIN VINTAGE GREEN</td>\n",
       "      <td>1</td>\n",
       "      <td>2010-12-05 14:02:00</td>\n",
       "      <td>0.0</td>\n",
       "      <td>12647</td>\n",
       "      <td>Germany</td>\n",
       "    </tr>\n",
       "    <tr>\n",
       "      <th>33576</th>\n",
       "      <td>539263</td>\n",
       "      <td>22580</td>\n",
       "      <td>ADVENT CALENDAR GINGHAM SACK</td>\n",
       "      <td>4</td>\n",
       "      <td>2010-12-16 14:36:00</td>\n",
       "      <td>0.0</td>\n",
       "      <td>16560</td>\n",
       "      <td>United Kingdom</td>\n",
       "    </tr>\n",
       "    <tr>\n",
       "      <th>40089</th>\n",
       "      <td>539722</td>\n",
       "      <td>22423</td>\n",
       "      <td>REGENCY CAKESTAND 3 TIER</td>\n",
       "      <td>10</td>\n",
       "      <td>2010-12-21 13:45:00</td>\n",
       "      <td>0.0</td>\n",
       "      <td>14911</td>\n",
       "      <td>EIRE</td>\n",
       "    </tr>\n",
       "    <tr>\n",
       "      <th>47068</th>\n",
       "      <td>540372</td>\n",
       "      <td>22090</td>\n",
       "      <td>PAPER BUNTING RETROSPOT</td>\n",
       "      <td>24</td>\n",
       "      <td>2011-01-06 16:41:00</td>\n",
       "      <td>0.0</td>\n",
       "      <td>13081</td>\n",
       "      <td>United Kingdom</td>\n",
       "    </tr>\n",
       "    <tr>\n",
       "      <th>47070</th>\n",
       "      <td>540372</td>\n",
       "      <td>22553</td>\n",
       "      <td>PLASTERS IN TIN SKULLS</td>\n",
       "      <td>24</td>\n",
       "      <td>2011-01-06 16:41:00</td>\n",
       "      <td>0.0</td>\n",
       "      <td>13081</td>\n",
       "      <td>United Kingdom</td>\n",
       "    </tr>\n",
       "  </tbody>\n",
       "</table>\n",
       "</div>"
      ],
      "text/plain": [
       "      InvoiceNo StockCode                   Description  Quantity   \n",
       "9302     537197     22841  ROUND CAKE TIN VINTAGE GREEN         1  \\\n",
       "33576    539263     22580  ADVENT CALENDAR GINGHAM SACK         4   \n",
       "40089    539722     22423      REGENCY CAKESTAND 3 TIER        10   \n",
       "47068    540372     22090       PAPER BUNTING RETROSPOT        24   \n",
       "47070    540372     22553        PLASTERS IN TIN SKULLS        24   \n",
       "\n",
       "               InvoiceDate  UnitPrice  CustomerID         Country  \n",
       "9302   2010-12-05 14:02:00        0.0       12647         Germany  \n",
       "33576  2010-12-16 14:36:00        0.0       16560  United Kingdom  \n",
       "40089  2010-12-21 13:45:00        0.0       14911            EIRE  \n",
       "47068  2011-01-06 16:41:00        0.0       13081  United Kingdom  \n",
       "47070  2011-01-06 16:41:00        0.0       13081  United Kingdom  "
      ]
     },
     "execution_count": 18,
     "metadata": {},
     "output_type": "execute_result"
    }
   ],
   "source": [
    "zero = df[df['UnitPrice'] == 0]\n",
    "zero.head()"
   ]
  },
  {
   "cell_type": "code",
   "execution_count": 19,
   "id": "961c7fa0",
   "metadata": {},
   "outputs": [],
   "source": [
    "# Générer une correspondance des descriptions avec les prix moyens\n",
    "description_prices = df[df['UnitPrice'] > 0].groupby('Description')['UnitPrice'].mean()\n",
    "\n",
    "# Itérer sur les lignes avec UnitPrice = 0\n",
    "for index, row in df[df['UnitPrice'] == 0].iterrows():\n",
    "    description = row['Description']\n",
    "    if description in description_prices:\n",
    "        new_price = description_prices[description]\n",
    "        df.at[index, 'UnitPrice'] = new_price"
   ]
  },
  {
   "cell_type": "code",
   "execution_count": 20,
   "id": "c8aa79f9",
   "metadata": {},
   "outputs": [
    {
     "data": {
      "text/html": [
       "<div>\n",
       "<style scoped>\n",
       "    .dataframe tbody tr th:only-of-type {\n",
       "        vertical-align: middle;\n",
       "    }\n",
       "\n",
       "    .dataframe tbody tr th {\n",
       "        vertical-align: top;\n",
       "    }\n",
       "\n",
       "    .dataframe thead th {\n",
       "        text-align: right;\n",
       "    }\n",
       "</style>\n",
       "<table border=\"1\" class=\"dataframe\">\n",
       "  <thead>\n",
       "    <tr style=\"text-align: right;\">\n",
       "      <th></th>\n",
       "      <th>InvoiceNo</th>\n",
       "      <th>StockCode</th>\n",
       "      <th>Description</th>\n",
       "      <th>Quantity</th>\n",
       "      <th>InvoiceDate</th>\n",
       "      <th>UnitPrice</th>\n",
       "      <th>CustomerID</th>\n",
       "      <th>Country</th>\n",
       "    </tr>\n",
       "  </thead>\n",
       "  <tbody>\n",
       "  </tbody>\n",
       "</table>\n",
       "</div>"
      ],
      "text/plain": [
       "Empty DataFrame\n",
       "Columns: [InvoiceNo, StockCode, Description, Quantity, InvoiceDate, UnitPrice, CustomerID, Country]\n",
       "Index: []"
      ]
     },
     "execution_count": 20,
     "metadata": {},
     "output_type": "execute_result"
    }
   ],
   "source": [
    "zero = df[df['UnitPrice'] == 0]\n",
    "zero"
   ]
  },
  {
   "cell_type": "code",
   "execution_count": 21,
   "id": "95c3b9fe",
   "metadata": {},
   "outputs": [],
   "source": [
    "df=df.drop_duplicates()"
   ]
  },
  {
   "cell_type": "markdown",
   "id": "0b18d338",
   "metadata": {},
   "source": [
    "<h3 style=\"color:RED;\"> La taille totale du Dataset après le nettoyage des données:</h3>"
   ]
  },
  {
   "cell_type": "code",
   "execution_count": 22,
   "id": "a0b43720",
   "metadata": {},
   "outputs": [
    {
     "name": "stdout",
     "output_type": "stream",
     "text": [
      "(534209, 8)\n"
     ]
    }
   ],
   "source": [
    "print(df.shape)"
   ]
  },
  {
   "cell_type": "code",
   "execution_count": 23,
   "id": "7e095133",
   "metadata": {},
   "outputs": [
    {
     "name": "stdout",
     "output_type": "stream",
     "text": [
      "InvoiceNo      0\n",
      "StockCode      0\n",
      "Description    0\n",
      "Quantity       0\n",
      "InvoiceDate    0\n",
      "UnitPrice      0\n",
      "CustomerID     0\n",
      "Country        0\n",
      "dtype: int64\n"
     ]
    }
   ],
   "source": [
    "print(df.isnull().sum(axis=0))"
   ]
  },
  {
   "cell_type": "code",
   "execution_count": 24,
   "id": "399075c0",
   "metadata": {},
   "outputs": [
    {
     "name": "stdout",
     "output_type": "stream",
     "text": [
      "0\n"
     ]
    }
   ],
   "source": [
    "print(df.duplicated().sum())"
   ]
  },
  {
   "cell_type": "code",
   "execution_count": 25,
   "id": "003d8c26",
   "metadata": {},
   "outputs": [
    {
     "data": {
      "text/html": [
       "<div>\n",
       "<style scoped>\n",
       "    .dataframe tbody tr th:only-of-type {\n",
       "        vertical-align: middle;\n",
       "    }\n",
       "\n",
       "    .dataframe tbody tr th {\n",
       "        vertical-align: top;\n",
       "    }\n",
       "\n",
       "    .dataframe thead th {\n",
       "        text-align: right;\n",
       "    }\n",
       "</style>\n",
       "<table border=\"1\" class=\"dataframe\">\n",
       "  <thead>\n",
       "    <tr style=\"text-align: right;\">\n",
       "      <th></th>\n",
       "      <th>Quantity</th>\n",
       "      <th>UnitPrice</th>\n",
       "      <th>CustomerID</th>\n",
       "    </tr>\n",
       "  </thead>\n",
       "  <tbody>\n",
       "    <tr>\n",
       "      <th>count</th>\n",
       "      <td>534209.000000</td>\n",
       "      <td>534209.000000</td>\n",
       "      <td>534209.000000</td>\n",
       "    </tr>\n",
       "    <tr>\n",
       "      <th>mean</th>\n",
       "      <td>10.973707</td>\n",
       "      <td>4.741298</td>\n",
       "      <td>17478.418351</td>\n",
       "    </tr>\n",
       "    <tr>\n",
       "      <th>std</th>\n",
       "      <td>217.064976</td>\n",
       "      <td>97.457759</td>\n",
       "      <td>4436.076446</td>\n",
       "    </tr>\n",
       "    <tr>\n",
       "      <th>min</th>\n",
       "      <td>1.000000</td>\n",
       "      <td>0.001000</td>\n",
       "      <td>12346.000000</td>\n",
       "    </tr>\n",
       "    <tr>\n",
       "      <th>25%</th>\n",
       "      <td>1.000000</td>\n",
       "      <td>1.250000</td>\n",
       "      <td>14344.000000</td>\n",
       "    </tr>\n",
       "    <tr>\n",
       "      <th>50%</th>\n",
       "      <td>3.000000</td>\n",
       "      <td>2.100000</td>\n",
       "      <td>16241.000000</td>\n",
       "    </tr>\n",
       "    <tr>\n",
       "      <th>75%</th>\n",
       "      <td>11.000000</td>\n",
       "      <td>4.130000</td>\n",
       "      <td>18272.000000</td>\n",
       "    </tr>\n",
       "    <tr>\n",
       "      <th>max</th>\n",
       "      <td>80995.000000</td>\n",
       "      <td>38970.000000</td>\n",
       "      <td>29999.000000</td>\n",
       "    </tr>\n",
       "  </tbody>\n",
       "</table>\n",
       "</div>"
      ],
      "text/plain": [
       "            Quantity      UnitPrice     CustomerID\n",
       "count  534209.000000  534209.000000  534209.000000\n",
       "mean       10.973707       4.741298   17478.418351\n",
       "std       217.064976      97.457759    4436.076446\n",
       "min         1.000000       0.001000   12346.000000\n",
       "25%         1.000000       1.250000   14344.000000\n",
       "50%         3.000000       2.100000   16241.000000\n",
       "75%        11.000000       4.130000   18272.000000\n",
       "max     80995.000000   38970.000000   29999.000000"
      ]
     },
     "execution_count": 25,
     "metadata": {},
     "output_type": "execute_result"
    }
   ],
   "source": [
    "df.describe()"
   ]
  },
  {
   "cell_type": "code",
   "execution_count": 26,
   "id": "ca8b23b1",
   "metadata": {},
   "outputs": [],
   "source": [
    "df.to_csv('Cleaned_Online_Retail.csv', index=False)"
   ]
  },
  {
   "cell_type": "markdown",
   "id": "2b5932cd",
   "metadata": {},
   "source": [
    "<h3 style=\"color:BLACK;\"> Analyse les données</h3>"
   ]
  },
  {
   "cell_type": "code",
   "execution_count": 27,
   "id": "0528f71a",
   "metadata": {
    "scrolled": true
   },
   "outputs": [
    {
     "data": {
      "text/html": [
       "<div>\n",
       "<style scoped>\n",
       "    .dataframe tbody tr th:only-of-type {\n",
       "        vertical-align: middle;\n",
       "    }\n",
       "\n",
       "    .dataframe tbody tr th {\n",
       "        vertical-align: top;\n",
       "    }\n",
       "\n",
       "    .dataframe thead th {\n",
       "        text-align: right;\n",
       "    }\n",
       "</style>\n",
       "<table border=\"1\" class=\"dataframe\">\n",
       "  <thead>\n",
       "    <tr style=\"text-align: right;\">\n",
       "      <th></th>\n",
       "      <th>InvoiceNo</th>\n",
       "      <th>StockCode</th>\n",
       "      <th>Description</th>\n",
       "      <th>Quantity</th>\n",
       "      <th>InvoiceDate</th>\n",
       "      <th>UnitPrice</th>\n",
       "      <th>CustomerID</th>\n",
       "      <th>Country</th>\n",
       "    </tr>\n",
       "  </thead>\n",
       "  <tbody>\n",
       "    <tr>\n",
       "      <th>0</th>\n",
       "      <td>536365</td>\n",
       "      <td>85123A</td>\n",
       "      <td>WHITE HANGING HEART T-LIGHT HOLDER</td>\n",
       "      <td>6</td>\n",
       "      <td>2010-12-01 08:26:00</td>\n",
       "      <td>2.55</td>\n",
       "      <td>17850</td>\n",
       "      <td>United Kingdom</td>\n",
       "    </tr>\n",
       "    <tr>\n",
       "      <th>1</th>\n",
       "      <td>536365</td>\n",
       "      <td>71053</td>\n",
       "      <td>WHITE METAL LANTERN</td>\n",
       "      <td>6</td>\n",
       "      <td>2010-12-01 08:26:00</td>\n",
       "      <td>3.39</td>\n",
       "      <td>17850</td>\n",
       "      <td>United Kingdom</td>\n",
       "    </tr>\n",
       "    <tr>\n",
       "      <th>2</th>\n",
       "      <td>536365</td>\n",
       "      <td>84406B</td>\n",
       "      <td>CREAM CUPID HEARTS COAT HANGER</td>\n",
       "      <td>8</td>\n",
       "      <td>2010-12-01 08:26:00</td>\n",
       "      <td>2.75</td>\n",
       "      <td>17850</td>\n",
       "      <td>United Kingdom</td>\n",
       "    </tr>\n",
       "    <tr>\n",
       "      <th>3</th>\n",
       "      <td>536365</td>\n",
       "      <td>84029G</td>\n",
       "      <td>KNITTED UNION FLAG HOT WATER BOTTLE</td>\n",
       "      <td>6</td>\n",
       "      <td>2010-12-01 08:26:00</td>\n",
       "      <td>3.39</td>\n",
       "      <td>17850</td>\n",
       "      <td>United Kingdom</td>\n",
       "    </tr>\n",
       "    <tr>\n",
       "      <th>4</th>\n",
       "      <td>536365</td>\n",
       "      <td>84029E</td>\n",
       "      <td>RED WOOLLY HOTTIE WHITE HEART.</td>\n",
       "      <td>6</td>\n",
       "      <td>2010-12-01 08:26:00</td>\n",
       "      <td>3.39</td>\n",
       "      <td>17850</td>\n",
       "      <td>United Kingdom</td>\n",
       "    </tr>\n",
       "  </tbody>\n",
       "</table>\n",
       "</div>"
      ],
      "text/plain": [
       "  InvoiceNo StockCode                          Description  Quantity   \n",
       "0    536365    85123A   WHITE HANGING HEART T-LIGHT HOLDER         6  \\\n",
       "1    536365     71053                  WHITE METAL LANTERN         6   \n",
       "2    536365    84406B       CREAM CUPID HEARTS COAT HANGER         8   \n",
       "3    536365    84029G  KNITTED UNION FLAG HOT WATER BOTTLE         6   \n",
       "4    536365    84029E       RED WOOLLY HOTTIE WHITE HEART.         6   \n",
       "\n",
       "           InvoiceDate  UnitPrice  CustomerID         Country  \n",
       "0  2010-12-01 08:26:00       2.55       17850  United Kingdom  \n",
       "1  2010-12-01 08:26:00       3.39       17850  United Kingdom  \n",
       "2  2010-12-01 08:26:00       2.75       17850  United Kingdom  \n",
       "3  2010-12-01 08:26:00       3.39       17850  United Kingdom  \n",
       "4  2010-12-01 08:26:00       3.39       17850  United Kingdom  "
      ]
     },
     "execution_count": 27,
     "metadata": {},
     "output_type": "execute_result"
    }
   ],
   "source": [
    "df.head()"
   ]
  },
  {
   "cell_type": "markdown",
   "id": "3290e6f4",
   "metadata": {},
   "source": [
    "<h3 style=\"color:RED;\"> Quelle sont les clients qui ont passées plus de commande sur notre site ?</h3>"
   ]
  },
  {
   "cell_type": "code",
   "execution_count": 28,
   "id": "893ce9be",
   "metadata": {},
   "outputs": [
    {
     "data": {
      "text/plain": [
       "CustomerID\n",
       "14911    248\n",
       "12748    224\n",
       "17841    169\n",
       "14606    128\n",
       "13089    118\n",
       "Name: count, dtype: int64"
      ]
     },
     "execution_count": 28,
     "metadata": {},
     "output_type": "execute_result"
    }
   ],
   "source": [
    "NbrOfInvoicesByCustomer = df.groupby(\"CustomerID\")[\"InvoiceNo\"].value_counts()\n",
    "NbrOfInvoicesByCustomer.groupby(\"CustomerID\").count().nlargest(5)"
   ]
  },
  {
   "cell_type": "markdown",
   "id": "83191396",
   "metadata": {},
   "source": [
    "<h3 style=\"color:RED;\"> Quelle est le plus haut montant dépensé par un seul client ?</h3>"
   ]
  },
  {
   "cell_type": "code",
   "execution_count": 29,
   "id": "9522ae14",
   "metadata": {},
   "outputs": [
    {
     "name": "stdout",
     "output_type": "stream",
     "text": [
      "Client avec le montant le plus élevé dépensé : 16446\n",
      "Montant le plus élevé dépensé : 336942.1\n"
     ]
    }
   ],
   "source": [
    "df['TotalAmount'] = df['Quantity'] * df['UnitPrice']\n",
    "total_amounts = df.groupby('CustomerID')['TotalAmount'].sum()\n",
    "\n",
    "highest_spending_customer = total_amounts.idxmax()\n",
    "highest_amount_spent = total_amounts.max()\n",
    "\n",
    "print(\"Client avec le montant le plus élevé dépensé :\", highest_spending_customer)\n",
    "print(\"Montant le plus élevé dépensé :\", highest_amount_spent)"
   ]
  },
  {
   "cell_type": "markdown",
   "id": "bdc10cb6",
   "metadata": {},
   "source": [
    "<h3 style=\"color:RED;\"> Quelles est la description des produits les plus vendus ou acheté par les clients dans notre site ?</h3>"
   ]
  },
  {
   "cell_type": "code",
   "execution_count": 30,
   "id": "baadce05",
   "metadata": {},
   "outputs": [
    {
     "name": "stdout",
     "output_type": "stream",
     "text": [
      "PAPER CRAFT , LITTLE BIRDIE\n",
      "MEDIUM CERAMIC TOP STORAGE JAR\n",
      "WORLD WAR 2 GLIDERS ASSTD DESIGNS\n",
      "JUMBO BAG RED RETROSPOT\n",
      "WHITE HANGING HEART T-LIGHT HOLDER\n"
     ]
    }
   ],
   "source": [
    "top_product_descriptions = df.groupby('Description')['Quantity'].sum().nlargest(5).index\n",
    "for description in top_product_descriptions:\n",
    "    print(description)"
   ]
  },
  {
   "cell_type": "markdown",
   "id": "41cb0b0b",
   "metadata": {},
   "source": [
    "<h3 style=\"color:RED;\"> Quel est le nombre moyen de produits vendus par jour, mois ?</h3>"
   ]
  },
  {
   "cell_type": "code",
   "execution_count": 31,
   "id": "2cf85724",
   "metadata": {},
   "outputs": [
    {
     "name": "stdout",
     "output_type": "stream",
     "text": [
      "Nombre moyen de produits vendus par jour : 19220\n",
      "Top 5 days with the highest number of products sold:\n",
      "InvoiceDate\n",
      "2011-12-09    174979\n",
      "2011-01-18    157209\n",
      "2011-11-14     47429\n",
      "2011-10-05     46399\n",
      "2011-12-05     44622\n",
      "Name: Quantity, dtype: int64\n"
     ]
    }
   ],
   "source": [
    "df['InvoiceDate'] = pd.to_datetime(df['InvoiceDate'])\n",
    "\n",
    "products_per_day = df.groupby(df['InvoiceDate'].dt.date)['Quantity'].sum()\n",
    "\n",
    "mean_products_per_day = products_per_day.mean()\n",
    "\n",
    "print(\"Nombre moyen de produits vendus par jour :\", int(mean_products_per_day))\n",
    "# Obtenez le top 5 des jours avec le plus grand nombre de produits vendus\n",
    "top_5_days = products_per_day.nlargest(5)\n",
    "print(\"Top 5 days with the highest number of products sold:\")\n",
    "print(top_5_days)"
   ]
  },
  {
   "cell_type": "code",
   "execution_count": 32,
   "id": "ad1e1fb2",
   "metadata": {},
   "outputs": [
    {
     "name": "stdout",
     "output_type": "stream",
     "text": [
      "Nombre moyen de produits vendus par mois : 450942\n",
      "Top 5 months with the highest number of products sold:\n",
      "InvoiceDate\n",
      "2011-11    776811\n",
      "2011-10    644004\n",
      "2011-09    576907\n",
      "2011-01    467053\n",
      "2011-08    434186\n",
      "Freq: M, Name: Quantity, dtype: int64\n"
     ]
    }
   ],
   "source": [
    "products_per_month = df.groupby(df['InvoiceDate'].dt.to_period('M'))['Quantity'].sum()\n",
    "\n",
    "mean_products_per_month = products_per_month.mean()\n",
    "\n",
    "print(\"Nombre moyen de produits vendus par mois :\", int(mean_products_per_month))\n",
    "# Obtenez le top 5 des mois avec le plus grand nombre de produits vendus\n",
    "top_5_months = products_per_month.nlargest(5)\n",
    "print(\"Top 5 months with the highest number of products sold:\")\n",
    "print(top_5_months)"
   ]
  },
  {
   "cell_type": "markdown",
   "id": "165049ca",
   "metadata": {},
   "source": [
    "<h3 style=\"color:RED;\"> Quelle est la répartition géographique des ventes ?</h3>"
   ]
  },
  {
   "cell_type": "code",
   "execution_count": 33,
   "id": "2c5b944f",
   "metadata": {},
   "outputs": [
    {
     "data": {
      "text/plain": [
       "array(['United Kingdom', 'France', 'Australia', 'Netherlands', 'Germany',\n",
       "       'Norway', 'EIRE', 'Switzerland', 'Spain', 'Poland', 'Portugal',\n",
       "       'Italy', 'Belgium', 'Lithuania', 'Japan', 'Iceland',\n",
       "       'Channel Islands', 'Denmark', 'Cyprus', 'Sweden', 'Austria',\n",
       "       'Israel', 'Finland', 'Bahrain', 'Greece', 'Hong Kong', 'Singapore',\n",
       "       'Lebanon', 'United Arab Emirates', 'Saudi Arabia',\n",
       "       'Czech Republic', 'Canada', 'Unspecified', 'Brazil', 'USA',\n",
       "       'European Community', 'Malta', 'RSA'], dtype=object)"
      ]
     },
     "execution_count": 33,
     "metadata": {},
     "output_type": "execute_result"
    }
   ],
   "source": [
    "df.Country.unique()"
   ]
  },
  {
   "cell_type": "code",
   "execution_count": 34,
   "id": "b6b59478",
   "metadata": {},
   "outputs": [
    {
     "data": {
      "text/plain": [
       "Country\n",
       "Australia   141029.26\n",
       "Austria      10243.04\n",
       "Bahrain        959.88\n",
       "Belgium      41481.72\n",
       "Brazil        1143.60\n",
       "Name: TotalAmount, dtype: float64"
      ]
     },
     "execution_count": 34,
     "metadata": {},
     "output_type": "execute_result"
    }
   ],
   "source": [
    "pd.options.display.float_format = '{:.2f}'.format\n",
    "sales_by_country = df.groupby('Country')['TotalAmount'].sum()\n",
    "sales_by_country.head()"
   ]
  },
  {
   "cell_type": "code",
   "execution_count": 35,
   "id": "e773e2a3",
   "metadata": {},
   "outputs": [
    {
     "data": {
      "image/png": "[encoded data removed]",
      "text/plain": [
       "<Figure size 1200x600 with 1 Axes>"
      ]
     },
     "metadata": {},
     "output_type": "display_data"
    }
   ],
   "source": [
    "sales_by_country = df.groupby('Country')['TotalAmount'].sum()\n",
    "sales_by_country = sales_by_country.sort_values(ascending=False)\n",
    "\n",
    "plt.figure(figsize=(12, 6))\n",
    "sns.barplot(x=sales_by_country.index, y=sales_by_country.values)\n",
    "\n",
    "plt.title(\"Répartition géographique des ventes\")\n",
    "plt.xlabel(\"Pays\")\n",
    "plt.ylabel(\"Montant total des ventes\")\n",
    "\n",
    "plt.xticks(rotation=90)\n",
    "\n",
    "plt.show()"
   ]
  },
  {
   "cell_type": "markdown",
   "id": "41c53d09",
   "metadata": {},
   "source": [
    "### Meme répartition géographique des ventes hors United Kingdom"
   ]
  },
  {
   "cell_type": "code",
   "execution_count": 36,
   "id": "3a29c54e",
   "metadata": {},
   "outputs": [
    {
     "data": {
      "image/png": "[encoded data removed]",
      "text/plain": [
       "<Figure size 1200x600 with 1 Axes>"
      ]
     },
     "metadata": {},
     "output_type": "display_data"
    }
   ],
   "source": [
    "sales_by_country = df.groupby('Country')['TotalAmount'].sum()\n",
    "sales_by_country = sales_by_country[sales_by_country.index != 'United Kingdom']\n",
    "sales_by_country = sales_by_country.sort_values(ascending=False)\n",
    "\n",
    "plt.figure(figsize=(12, 6))\n",
    "sns.barplot(x=sales_by_country.index, y=sales_by_country.values)\n",
    "\n",
    "plt.title(\"Total Sales by Country (excluding United Kingdom)\")\n",
    "plt.xlabel(\"Country\")\n",
    "plt.ylabel(\"Total Sales\")\n",
    "\n",
    "plt.xticks(rotation=90)\n",
    "plt.tight_layout()\n",
    "\n",
    "plt.show()\n"
   ]
  },
  {
   "cell_type": "markdown",
   "id": "4220265c",
   "metadata": {},
   "source": [
    "<h3 style=\"color:RED;\"> Quelle est la tendance des ventes au fil du temps, tracer un graphique de la croissance des ventes ?</h3>"
   ]
  },
  {
   "cell_type": "code",
   "execution_count": 37,
   "id": "d83b72ec",
   "metadata": {},
   "outputs": [
    {
     "data": {
      "image/png": "[encoded data removed]",
      "text/plain": [
       "<Figure size 1200x600 with 1 Axes>"
      ]
     },
     "metadata": {},
     "output_type": "display_data"
    }
   ],
   "source": [
    "df['InvoiceDate'] = pd.to_datetime(df['InvoiceDate'])\n",
    "\n",
    "monthly_sales = df.resample('M', on='InvoiceDate')['TotalAmount'].sum()\n",
    "\n",
    "plt.figure(figsize=(12, 6))\n",
    "plt.plot(monthly_sales.index, monthly_sales.values, 'g.-')\n",
    "\n",
    "plt.title(\"Croissance des ventes au fil du temps\")\n",
    "plt.xlabel(\"Mois\")\n",
    "plt.ylabel(\"Montant total des ventes\")\n",
    "\n",
    "plt.xticks()\n",
    "plt.tight_layout()\n",
    "\n",
    "plt.show()"
   ]
  },
  {
   "cell_type": "markdown",
   "id": "9e83b6cb",
   "metadata": {},
   "source": [
    "<h3 style=\"color:RED;\"> Quelle est la saisonnalité des ventes ?</h3>"
   ]
  },
  {
   "cell_type": "code",
   "execution_count": 38,
   "id": "8509c50e",
   "metadata": {},
   "outputs": [
    {
     "data": {
      "image/png": "[encoded data removed]",
      "text/plain": [
       "<Figure size 600x300 with 1 Axes>"
      ]
     },
     "metadata": {},
     "output_type": "display_data"
    }
   ],
   "source": [
    "df['InvoiceDate'] = pd.to_datetime(df['InvoiceDate'])\n",
    "\n",
    "df['Season'] = (df['InvoiceDate'].dt.month % 12 + 3) // 3\n",
    "\n",
    "seasonal_quantity = df.groupby('Season')['Quantity'].sum()\n",
    "\n",
    "season_names = {1: 'Hiver', 2: 'Printemps', 3: 'Été', 4: 'Automne'}\n",
    "\n",
    "plt.figure(figsize=(6, 3))\n",
    "plt.bar(seasonal_quantity.index.map(season_names.get), seasonal_quantity.values, color=['coral'])\n",
    "plt.xlabel('Season')\n",
    "plt.ylabel('Quantity Sold')\n",
    "plt.title('Seasonal Sales')\n",
    "plt.show()"
   ]
  },
  {
   "cell_type": "markdown",
   "id": "8ed7cd87",
   "metadata": {},
   "source": [
    "<h3 style=\"color:RED;\"> Quel est le chiffre d'affaires total réalisé par le site de vente en ligne sur une période donnée (par exemple année 2011)?</h3>"
   ]
  },
  {
   "cell_type": "code",
   "execution_count": 39,
   "id": "f1281a54",
   "metadata": {},
   "outputs": [
    {
     "name": "stdout",
     "output_type": "stream",
     "text": [
      "Le chiffre d'affaires total pour l'année 2011 est de : 10675362.193292782\n"
     ]
    }
   ],
   "source": [
    "df['InvoiceDate'] = pd.to_datetime(df['InvoiceDate'])\n",
    "\n",
    "start_date = pd.to_datetime('2011-01-01')\n",
    "end_date = pd.to_datetime('2011-12-31')\n",
    "filtered_df = df[(df['InvoiceDate'] >= start_date) & (df['InvoiceDate'] <= end_date)]\n",
    "\n",
    "total_revenue = filtered_df['TotalAmount'].sum()\n",
    "\n",
    "print('Le chiffre d\\'affaires total pour l\\'année 2011 est de :', total_revenue)"
   ]
  },
  {
   "cell_type": "markdown",
   "id": "28757ba9",
   "metadata": {},
   "source": [
    "<h3 style=\"color:RED;\"> Quels sont les moments du jour (matin, après-midi, soir) que les clients achètent le plus ?</h3>"
   ]
  },
  {
   "cell_type": "code",
   "execution_count": 40,
   "id": "5641ed2b",
   "metadata": {},
   "outputs": [
    {
     "data": {
      "image/png": "[encoded data removed]",
      "text/plain": [
       "<Figure size 1000x400 with 1 Axes>"
      ]
     },
     "metadata": {},
     "output_type": "display_data"
    }
   ],
   "source": [
    "df['InvoiceDate'] = pd.to_datetime(df['InvoiceDate'])\n",
    "\n",
    "df['Hour'] = df['InvoiceDate'].dt.hour\n",
    "\n",
    "bins = [6, 12, 18, 24]\n",
    "labels = ['Matin', 'Après-Midi', 'Soir']\n",
    "df['Daytime'] = pd.cut(df['Hour'], bins=bins, labels=labels, right=False)\n",
    "\n",
    "transaction_count = df['Daytime'].value_counts()\n",
    "\n",
    "plt.figure(figsize=(10, 4))\n",
    "plt.bar(transaction_count.index, transaction_count.values, color=['coral'])\n",
    "plt.xlabel('Time of Day')\n",
    "plt.ylabel('Transaction Count')\n",
    "plt.title('Transaction Distribution by Time of Day (excluding Night)')\n",
    "plt.show()"
   ]
  },
  {
   "cell_type": "markdown",
   "id": "27a488b4",
   "metadata": {},
   "source": [
    "<h3 style=\"color:RED;\"> Quelle est la distribution des prix des produits ?</h3>"
   ]
  },
  {
   "cell_type": "code",
   "execution_count": 41,
   "id": "256f47da",
   "metadata": {},
   "outputs": [],
   "source": [
    "df['disprix'] = ''\n",
    "\n",
    "Condition1 = (df['UnitPrice'] > 0) & (df['UnitPrice'] <= 10)\n",
    "Condition2 = (df['UnitPrice'] > 10) & (df['UnitPrice'] <= 20)\n",
    "Condition3 = (df['UnitPrice'] > 20) & (df['UnitPrice'] <= 50)\n",
    "Condition4 = (df['UnitPrice'] > 50) & (df['UnitPrice'] <= 100)\n",
    "Condition5 = (df['UnitPrice'] > 100) & (df['UnitPrice'] <= 200)\n",
    "Condition6 = (df['UnitPrice'] > 200) & (df['UnitPrice'] <= 500)\n",
    "Condition7 = df['UnitPrice'] > 500\n",
    "\n",
    "df.loc[Condition1 , 'disprix'] = '0-10'\n",
    "df.loc[Condition2 , 'disprix'] = '10-20'\n",
    "df.loc[Condition3 , 'disprix'] = '20-50'\n",
    "df.loc[Condition4 , 'disprix'] = '50-100'\n",
    "df.loc[Condition5 , 'disprix'] = '100-200'\n",
    "df.loc[Condition6 , 'disprix'] = '200-500'\n",
    "df.loc[Condition7 , 'disprix'] = '500+'"
   ]
  },
  {
   "cell_type": "code",
   "execution_count": 42,
   "id": "3126e409",
   "metadata": {},
   "outputs": [
    {
     "data": {
      "text/plain": [
       "disprix\n",
       "0-10       465\n",
       "10-20      125\n",
       "100-200    334\n",
       "20-50      126\n",
       "200-500    274\n",
       "50-100     122\n",
       "500+       215\n",
       "Name: UnitPrice, dtype: int64"
      ]
     },
     "execution_count": 42,
     "metadata": {},
     "output_type": "execute_result"
    }
   ],
   "source": [
    "distribution_des_prix = df.groupby('disprix')['UnitPrice'].nunique()\n",
    "distribution_des_prix"
   ]
  },
  {
   "cell_type": "code",
   "execution_count": 43,
   "id": "8f04fffd",
   "metadata": {},
   "outputs": [
    {
     "data": {
      "image/png": "[encoded data removed]",
      "text/plain": [
       "<Figure size 640x480 with 1 Axes>"
      ]
     },
     "metadata": {},
     "output_type": "display_data"
    }
   ],
   "source": [
    "#Create A graph Pie :\n",
    "\n",
    "plt.pie(distribution_des_prix,labels = distribution_des_prix.index,autopct='%1.1f%%')\n",
    "\n",
    "#Add labels and title\n",
    "plt.title('La distribution des prix des produits')\n",
    "plt.xticks(rotation= 45) # for show the lable \n",
    "#Display the graph\n",
    "plt.show()"
   ]
  },
  {
   "cell_type": "markdown",
   "id": "f6b0d993",
   "metadata": {},
   "source": [
    "# Partie SQL"
   ]
  },
  {
   "cell_type": "markdown",
   "id": "7c051408",
   "metadata": {},
   "source": [
    "## Insertion des données nettoyées dans la base de données SQL"
   ]
  },
  {
   "cell_type": "code",
   "execution_count": 44,
   "id": "61f82387",
   "metadata": {},
   "outputs": [
    {
     "data": {
      "text/html": [
       "<div>\n",
       "<style scoped>\n",
       "    .dataframe tbody tr th:only-of-type {\n",
       "        vertical-align: middle;\n",
       "    }\n",
       "\n",
       "    .dataframe tbody tr th {\n",
       "        vertical-align: top;\n",
       "    }\n",
       "\n",
       "    .dataframe thead th {\n",
       "        text-align: right;\n",
       "    }\n",
       "</style>\n",
       "<table border=\"1\" class=\"dataframe\">\n",
       "  <thead>\n",
       "    <tr style=\"text-align: right;\">\n",
       "      <th></th>\n",
       "      <th>InvoiceNo</th>\n",
       "      <th>StockCode</th>\n",
       "      <th>Description</th>\n",
       "      <th>Quantity</th>\n",
       "      <th>InvoiceDate</th>\n",
       "      <th>UnitPrice</th>\n",
       "      <th>CustomerID</th>\n",
       "      <th>Country</th>\n",
       "    </tr>\n",
       "  </thead>\n",
       "  <tbody>\n",
       "    <tr>\n",
       "      <th>0</th>\n",
       "      <td>536365</td>\n",
       "      <td>85123A</td>\n",
       "      <td>WHITE HANGING HEART T-LIGHT HOLDER</td>\n",
       "      <td>6</td>\n",
       "      <td>2010-12-01 08:26:00</td>\n",
       "      <td>2.55</td>\n",
       "      <td>17850</td>\n",
       "      <td>United Kingdom</td>\n",
       "    </tr>\n",
       "    <tr>\n",
       "      <th>1</th>\n",
       "      <td>536365</td>\n",
       "      <td>71053</td>\n",
       "      <td>WHITE METAL LANTERN</td>\n",
       "      <td>6</td>\n",
       "      <td>2010-12-01 08:26:00</td>\n",
       "      <td>3.39</td>\n",
       "      <td>17850</td>\n",
       "      <td>United Kingdom</td>\n",
       "    </tr>\n",
       "    <tr>\n",
       "      <th>2</th>\n",
       "      <td>536365</td>\n",
       "      <td>84406B</td>\n",
       "      <td>CREAM CUPID HEARTS COAT HANGER</td>\n",
       "      <td>8</td>\n",
       "      <td>2010-12-01 08:26:00</td>\n",
       "      <td>2.75</td>\n",
       "      <td>17850</td>\n",
       "      <td>United Kingdom</td>\n",
       "    </tr>\n",
       "    <tr>\n",
       "      <th>3</th>\n",
       "      <td>536365</td>\n",
       "      <td>84029G</td>\n",
       "      <td>KNITTED UNION FLAG HOT WATER BOTTLE</td>\n",
       "      <td>6</td>\n",
       "      <td>2010-12-01 08:26:00</td>\n",
       "      <td>3.39</td>\n",
       "      <td>17850</td>\n",
       "      <td>United Kingdom</td>\n",
       "    </tr>\n",
       "    <tr>\n",
       "      <th>4</th>\n",
       "      <td>536365</td>\n",
       "      <td>84029E</td>\n",
       "      <td>RED WOOLLY HOTTIE WHITE HEART.</td>\n",
       "      <td>6</td>\n",
       "      <td>2010-12-01 08:26:00</td>\n",
       "      <td>3.39</td>\n",
       "      <td>17850</td>\n",
       "      <td>United Kingdom</td>\n",
       "    </tr>\n",
       "  </tbody>\n",
       "</table>\n",
       "</div>"
      ],
      "text/plain": [
       "  InvoiceNo StockCode                          Description  Quantity   \n",
       "0    536365    85123A   WHITE HANGING HEART T-LIGHT HOLDER         6  \\\n",
       "1    536365     71053                  WHITE METAL LANTERN         6   \n",
       "2    536365    84406B       CREAM CUPID HEARTS COAT HANGER         8   \n",
       "3    536365    84029G  KNITTED UNION FLAG HOT WATER BOTTLE         6   \n",
       "4    536365    84029E       RED WOOLLY HOTTIE WHITE HEART.         6   \n",
       "\n",
       "           InvoiceDate  UnitPrice  CustomerID         Country  \n",
       "0  2010-12-01 08:26:00       2.55       17850  United Kingdom  \n",
       "1  2010-12-01 08:26:00       3.39       17850  United Kingdom  \n",
       "2  2010-12-01 08:26:00       2.75       17850  United Kingdom  \n",
       "3  2010-12-01 08:26:00       3.39       17850  United Kingdom  \n",
       "4  2010-12-01 08:26:00       3.39       17850  United Kingdom  "
      ]
     },
     "execution_count": 44,
     "metadata": {},
     "output_type": "execute_result"
    }
   ],
   "source": [
    "ndf=pd.read_csv('Cleaned_Online_Retail.csv')\n",
    "ndf.head()"
   ]
  },
  {
   "cell_type": "code",
   "execution_count": 45,
   "id": "5818d217",
   "metadata": {},
   "outputs": [],
   "source": [
    "# Créez la connexion\n",
    "connection = pyodbc.connect('DRIVER={SQL SERVER} ;SERVER=LAPTOP-QJ16KG8Q\\SQLEXPRESS;DATABASE=datagestion')"
   ]
  },
  {
   "cell_type": "code",
   "execution_count": 46,
   "id": "80bde903",
   "metadata": {},
   "outputs": [],
   "source": [
    "cursor = connection.cursor()"
   ]
  },
  {
   "cell_type": "code",
   "execution_count": null,
   "id": "2a8e4a39",
   "metadata": {},
   "outputs": [],
   "source": [
    "cursor.execute('''\n",
    "    CREATE TABLE Retail1(\n",
    "        InvoiceNo varchar(255),\n",
    "        StockCode varchar(255),\n",
    "        Description varchar(255),\n",
    "        Quantity int,\n",
    "        InvoiceDate date,\n",
    "        UnitPrice float,\n",
    "        CustomerID int,\n",
    "        Country varchar(255)\n",
    "    )\n",
    "''')"
   ]
  },
  {
   "cell_type": "code",
   "execution_count": 48,
   "id": "accdb594",
   "metadata": {},
   "outputs": [],
   "source": [
    "connection.commit()"
   ]
  },
  {
   "cell_type": "code",
   "execution_count": null,
   "id": "f82c58eb",
   "metadata": {},
   "outputs": [],
   "source": [
    "for row in df.itertuples():\n",
    "    cursor.execute('''\n",
    "    INSERT INTO Retail1 (\n",
    "        InvoiceNo,\n",
    "        StockCode,\n",
    "        Description,\n",
    "        Quantity,\n",
    "        InvoiceDate,\n",
    "        UnitPrice,\n",
    "        CustomerID,\n",
    "        Country \n",
    "    )\n",
    "                VALUES (?,?,?,?,?,?,?,?)\n",
    "                ''',\n",
    "        row.InvoiceNo,\n",
    "        row.StockCode,\n",
    "        row.Description,\n",
    "        row.Quantity,\n",
    "        row.InvoiceDate,\n",
    "        row.UnitPrice,\n",
    "        row.CustomerID,\n",
    "        row.Country \n",
    "                )\n",
    "connection.commit()"
   ]
  },
  {
   "cell_type": "code",
   "execution_count": null,
   "id": "bd8749e9",
   "metadata": {},
   "outputs": [],
   "source": [
    "print(df.isnull().sum(axis=0))"
   ]
  },
  {
   "cell_type": "markdown",
   "id": "28da361f",
   "metadata": {},
   "source": [
    "## Création des requêtes afin de vérifier des informations du Dataset"
   ]
  },
  {
   "cell_type": "code",
   "execution_count": null,
   "id": "8f8fdb76",
   "metadata": {},
   "outputs": [],
   "source": [
    "cursor.execute(\"SELECT * FROM Retail where CustomerID IS NULL\")\n",
    "result1 = cursor.fetchall()\n",
    "for row in result1:\n",
    "    print(row)\n",
    "cursor.execute(\"SELECT * FROM Retail WHERE description IS NULL\")\n",
    "result2 = cursor.fetchall()\n",
    "for row in result2:\n",
    "    print(row)\n",
    "cursor.execute(\"SELECT * FROM Retail WHERE UnitPrice = 0.00\")\n",
    "result3 = cursor.fetchall()\n",
    "for row in result3:\n",
    "    print(row)    "
   ]
  },
  {
   "cell_type": "code",
   "execution_count": null,
   "id": "5f2bb652",
   "metadata": {},
   "outputs": [],
   "source": [
    "cursor.execute(\"SELECT AVG(Quantity) FROM Retail as Quantity_UK WHERE country='United Kingdom';\")\n",
    "result6 = cursor.fetchall()\n",
    "for row in result6:\n",
    "    print(row)"
   ]
  },
  {
   "cell_type": "markdown",
   "id": "29301df7",
   "metadata": {},
   "source": [
    "## Création une nouvelle Table SQL qui stockent seulement Customer ID et le montant total qu’il a dépensé chaque année dans notre site "
   ]
  },
  {
   "cell_type": "code",
   "execution_count": null,
   "id": "bbb26cb1",
   "metadata": {},
   "outputs": [],
   "source": [
    "cursor.execute('''\n",
    "    CREATE TABLE CustomerSpending (\n",
    "      PRIMARY KEY (CustomerID) INT ,\n",
    "      TotalSpending DECIMAL(10, 2),\n",
    "      FOREIGN KEY (Year) REFERENCES Retail(Year)\n",
    "    );\n",
    "''')\n",
    "\n",
    "connection.commit()"
   ]
  },
  {
   "cell_type": "code",
   "execution_count": null,
   "id": "9bc165bb",
   "metadata": {},
   "outputs": [],
   "source": [
    "cursor.execute('''\n",
    "    INSERT INTO CustomerSpending (CustomerID, Year, TotalSpending)\n",
    "SELECT\n",
    "  CustomerID,\n",
    "  YEAR(CONVERT(DATE, InvoiceDate)) AS Year,\n",
    "  SUM(UnitPrice * Quantity) AS TotalSpending\n",
    "FROM\n",
    "  Retail\n",
    "GROUP BY\n",
    "  CustomerID,\n",
    "  YEAR(CONVERT(DATE, InvoiceDate));\n",
    "''')\n",
    "connection.commit()"
   ]
  },
  {
   "cell_type": "code",
   "execution_count": null,
   "id": "a37333d9",
   "metadata": {},
   "outputs": [],
   "source": [
    "cursor.close()\n",
    "connection.close()"
   ]
  }
 ],
 "metadata": {
  "kernelspec": {
   "display_name": "Python 3 (ipykernel)",
   "language": "python",
   "name": "python3"
  },
  "language_info": {
   "codemirror_mode": {
    "name": "ipython",
    "version": 3
   },
   "file_extension": ".py",
   "mimetype": "text/x-python",
   "name": "python",
   "nbconvert_exporter": "python",
   "pygments_lexer": "ipython3",
   "version": "3.10.10"
  },
  "vp": {
   "vp_config_version": "1.0.0",
   "vp_menu_width": 273,
   "vp_note_display": false,
   "vp_note_width": 0,
   "vp_position": {
    "width": 278
   },
   "vp_section_display": false,
   "vp_signature": "VisualPython"
  }
 },
 "nbformat": 4,
 "nbformat_minor": 5
}
